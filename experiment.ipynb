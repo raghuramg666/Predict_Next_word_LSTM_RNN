{
 "cells": [
  {
   "cell_type": "code",
   "execution_count": 64,
   "metadata": {},
   "outputs": [
    {
     "name": "stderr",
     "output_type": "stream",
     "text": [
      "[nltk_data] Downloading package gutenberg to\n",
      "[nltk_data]     C:\\Users\\19408\\AppData\\Roaming\\nltk_data...\n",
      "[nltk_data]   Package gutenberg is already up-to-date!\n"
     ]
    }
   ],
   "source": [
    "### Data Collection\n",
    "import nltk\n",
    "nltk.download('gutenberg')\n",
    "from nltk.corpus import gutenberg\n",
    "import pandas as pd\n",
    "from keras.callbacks import EarlyStopping\n",
    "\n",
    "##Load the dataset\n",
    "data=gutenberg.raw('shakespeare-hamlet.txt')\n",
    "##save to a file\n",
    "with open('hamlet.txt','w') as file:\n",
    "    file.write(data)\n"
   ]
  },
  {
   "cell_type": "code",
   "execution_count": 65,
   "metadata": {},
   "outputs": [
    {
     "data": {
      "text/plain": [
       "4818"
      ]
     },
     "execution_count": 65,
     "metadata": {},
     "output_type": "execute_result"
    }
   ],
   "source": [
    "## Data preprocessing\n",
    "import numpy as np\n",
    "#from tensorflow.keras.preprocessing import Tokenizer\n",
    "##from tensorflow.keras.preprocessing.sequence import pad_sequences\n",
    "# Use the new import path\n",
    "from keras.preprocessing.text import Tokenizer\n",
    "from keras.utils import pad_sequences\n",
    "\n",
    "from sklearn.model_selection import train_test_split\n",
    "\n",
    "\n",
    "##load the dataset\n",
    "with open('hamlet.txt','r') as file:\n",
    "    text=file.read().lower()\n",
    "## Tokenize the text - creating indexes for words\n",
    "tokenizer=Tokenizer()\n",
    "tokenizer.fit_on_texts([text])\n",
    "total_words=len(tokenizer.word_index)+1\n",
    "total_words\n"
   ]
  },
  {
   "cell_type": "code",
   "execution_count": 66,
   "metadata": {},
   "outputs": [],
   "source": [
    "## Create input sequences\n",
    "input_sequences=[]\n",
    "for line in text.split('\\n'):\n",
    "    token_list=tokenizer.texts_to_sequences([line])[0]\n",
    "    for i in range(1,len(token_list)):\n",
    "        n_gram_sequence=token_list[:i+1]\n",
    "        input_sequences.append(n_gram_sequence)"
   ]
  },
  {
   "cell_type": "code",
   "execution_count": 67,
   "metadata": {},
   "outputs": [],
   "source": [
    "## Pad sequences \n",
    "max_sequence_len=max([len(x) for x in input_sequences])"
   ]
  },
  {
   "cell_type": "code",
   "execution_count": 68,
   "metadata": {},
   "outputs": [],
   "source": [
    "input_sequences=np.array(pad_sequences(input_sequences,maxlen=max_sequence_len,padding='pre'))"
   ]
  },
  {
   "cell_type": "code",
   "execution_count": 69,
   "metadata": {},
   "outputs": [
    {
     "data": {
      "text/plain": [
       "array([[   0,    0,    0, ...,    0,    1,  687],\n",
       "       [   0,    0,    0, ...,    1,  687,    4],\n",
       "       [   0,    0,    0, ...,  687,    4,   45],\n",
       "       ...,\n",
       "       [   0,    0,    0, ...,    4,   45, 1047],\n",
       "       [   0,    0,    0, ...,   45, 1047,    4],\n",
       "       [   0,    0,    0, ..., 1047,    4,  193]])"
      ]
     },
     "execution_count": 69,
     "metadata": {},
     "output_type": "execute_result"
    }
   ],
   "source": [
    "input_sequences"
   ]
  },
  {
   "cell_type": "code",
   "execution_count": 70,
   "metadata": {},
   "outputs": [],
   "source": [
    "## create predictors and labels\n",
    "import tensorflow as tf\n",
    "X,y=input_sequences[:,:-1],input_sequences[:,-1]\n"
   ]
  },
  {
   "cell_type": "code",
   "execution_count": 71,
   "metadata": {},
   "outputs": [
    {
     "data": {
      "text/plain": [
       "array([[0., 0., 0., ..., 0., 0., 0.],\n",
       "       [0., 0., 0., ..., 0., 0., 0.],\n",
       "       [0., 0., 0., ..., 0., 0., 0.],\n",
       "       ...,\n",
       "       [0., 0., 0., ..., 0., 0., 0.],\n",
       "       [0., 0., 0., ..., 0., 0., 0.],\n",
       "       [0., 0., 0., ..., 0., 0., 0.]], dtype=float32)"
      ]
     },
     "execution_count": 71,
     "metadata": {},
     "output_type": "execute_result"
    }
   ],
   "source": [
    "y=tf.keras.utils.to_categorical(y,num_classes=total_words)\n",
    "y"
   ]
  },
  {
   "cell_type": "code",
   "execution_count": 72,
   "metadata": {},
   "outputs": [],
   "source": [
    "##split the datae\\set\n",
    "X_train,X_test,y_train,y_test=train_test_split(X,y,test_size=0.2)\n",
    "\n",
    "##Define early stopping'\n",
    "early_stopping=EarlyStopping(monitor='val_loss',patience=3,restore_best_weights=True)"
   ]
  },
  {
   "cell_type": "code",
   "execution_count": 73,
   "metadata": {},
   "outputs": [
    {
     "name": "stdout",
     "output_type": "stream",
     "text": [
      "Model: \"sequential_4\"\n",
      "_________________________________________________________________\n",
      " Layer (type)                Output Shape              Param #   \n",
      "=================================================================\n",
      " embedding_4 (Embedding)     (None, 13, 100)           481800    \n",
      "                                                                 \n",
      " lstm_6 (LSTM)               (None, 13, 150)           150600    \n",
      "                                                                 \n",
      " dropout_2 (Dropout)         (None, 13, 150)           0         \n",
      "                                                                 \n",
      " lstm_7 (LSTM)               (None, 100)               100400    \n",
      "                                                                 \n",
      " dense_2 (Dense)             (None, 4818)              486618    \n",
      "                                                                 \n",
      "=================================================================\n",
      "Total params: 1219418 (4.65 MB)\n",
      "Trainable params: 1219418 (4.65 MB)\n",
      "Non-trainable params: 0 (0.00 Byte)\n",
      "_________________________________________________________________\n"
     ]
    }
   ],
   "source": [
    "## Train LSTM RNN\n",
    "from tensorflow.keras.models import Sequential\n",
    "from tensorflow.keras.layers import Embedding,LSTM,Dense,Dropout\n",
    "\n",
    "\n",
    "#Define the modelk\n",
    "model=Sequential()\n",
    "model.add(Embedding(total_words,100,input_length=max_sequence_len-1))\n",
    "model.add(LSTM(150,return_sequences=True))\n",
    "model.add(Dropout(0.2))\n",
    "model.add(LSTM(100))\n",
    "model.add(Dense(total_words,activation=\"softmax\"))\n",
    "\n",
    "##COmpile the model\n",
    "model.compile(loss=\"categorical_crossentropy\",optimizer='adam',metrics=['accuracy'])\n",
    "model.summary()"
   ]
  },
  {
   "cell_type": "code",
   "execution_count": 74,
   "metadata": {},
   "outputs": [
    {
     "name": "stdout",
     "output_type": "stream",
     "text": [
      "Epoch 1/50\n",
      "644/644 [==============================] - 19s 23ms/step - loss: 6.9122 - accuracy: 0.0329 - val_loss: 6.7320 - val_accuracy: 0.0315\n",
      "Epoch 2/50\n",
      "644/644 [==============================] - 15s 23ms/step - loss: 6.4750 - accuracy: 0.0379 - val_loss: 6.8185 - val_accuracy: 0.0412\n",
      "Epoch 3/50\n",
      "644/644 [==============================] - 16s 25ms/step - loss: 6.3380 - accuracy: 0.0447 - val_loss: 6.8545 - val_accuracy: 0.0484\n",
      "Epoch 4/50\n",
      "644/644 [==============================] - 16s 25ms/step - loss: 6.1845 - accuracy: 0.0527 - val_loss: 6.8940 - val_accuracy: 0.0480\n",
      "Epoch 5/50\n",
      "644/644 [==============================] - 15s 24ms/step - loss: 6.0364 - accuracy: 0.0573 - val_loss: 6.9269 - val_accuracy: 0.0521\n",
      "Epoch 6/50\n",
      "644/644 [==============================] - 16s 25ms/step - loss: 5.8931 - accuracy: 0.0656 - val_loss: 6.9860 - val_accuracy: 0.0544\n",
      "Epoch 7/50\n",
      "644/644 [==============================] - 16s 24ms/step - loss: 5.7582 - accuracy: 0.0731 - val_loss: 7.0653 - val_accuracy: 0.0560\n",
      "Epoch 8/50\n",
      "644/644 [==============================] - 16s 25ms/step - loss: 5.6231 - accuracy: 0.0793 - val_loss: 7.0974 - val_accuracy: 0.0587\n",
      "Epoch 9/50\n",
      "644/644 [==============================] - 16s 25ms/step - loss: 5.4826 - accuracy: 0.0881 - val_loss: 7.1525 - val_accuracy: 0.0606\n",
      "Epoch 10/50\n",
      "644/644 [==============================] - 15s 24ms/step - loss: 5.3482 - accuracy: 0.0968 - val_loss: 7.2208 - val_accuracy: 0.0622\n",
      "Epoch 11/50\n",
      "644/644 [==============================] - 15s 24ms/step - loss: 5.2213 - accuracy: 0.0998 - val_loss: 7.3433 - val_accuracy: 0.0629\n",
      "Epoch 12/50\n",
      "644/644 [==============================] - 16s 24ms/step - loss: 5.0988 - accuracy: 0.1057 - val_loss: 7.4521 - val_accuracy: 0.0649\n",
      "Epoch 13/50\n",
      "644/644 [==============================] - 16s 24ms/step - loss: 4.9849 - accuracy: 0.1080 - val_loss: 7.5629 - val_accuracy: 0.0637\n",
      "Epoch 14/50\n",
      "644/644 [==============================] - 15s 24ms/step - loss: 4.8689 - accuracy: 0.1149 - val_loss: 7.6507 - val_accuracy: 0.0639\n",
      "Epoch 15/50\n",
      "644/644 [==============================] - 15s 23ms/step - loss: 4.7555 - accuracy: 0.1190 - val_loss: 7.7986 - val_accuracy: 0.0659\n",
      "Epoch 16/50\n",
      "644/644 [==============================] - 16s 24ms/step - loss: 4.6441 - accuracy: 0.1252 - val_loss: 7.9170 - val_accuracy: 0.0620\n",
      "Epoch 17/50\n",
      "644/644 [==============================] - 15s 24ms/step - loss: 4.5327 - accuracy: 0.1299 - val_loss: 8.0621 - val_accuracy: 0.0610\n",
      "Epoch 18/50\n",
      "644/644 [==============================] - 15s 24ms/step - loss: 4.4246 - accuracy: 0.1354 - val_loss: 8.1814 - val_accuracy: 0.0596\n",
      "Epoch 19/50\n",
      "644/644 [==============================] - 15s 24ms/step - loss: 4.3191 - accuracy: 0.1458 - val_loss: 8.3237 - val_accuracy: 0.0604\n",
      "Epoch 20/50\n",
      "644/644 [==============================] - 15s 24ms/step - loss: 4.2178 - accuracy: 0.1550 - val_loss: 8.4719 - val_accuracy: 0.0591\n",
      "Epoch 21/50\n",
      "644/644 [==============================] - 15s 24ms/step - loss: 4.1252 - accuracy: 0.1657 - val_loss: 8.5896 - val_accuracy: 0.0600\n",
      "Epoch 22/50\n",
      "644/644 [==============================] - 15s 24ms/step - loss: 4.0324 - accuracy: 0.1793 - val_loss: 8.7207 - val_accuracy: 0.0596\n",
      "Epoch 23/50\n",
      "644/644 [==============================] - 16s 25ms/step - loss: 3.9420 - accuracy: 0.1935 - val_loss: 8.8428 - val_accuracy: 0.0589\n",
      "Epoch 24/50\n",
      "644/644 [==============================] - 15s 24ms/step - loss: 3.8537 - accuracy: 0.2053 - val_loss: 9.0068 - val_accuracy: 0.0583\n",
      "Epoch 25/50\n",
      "644/644 [==============================] - 15s 24ms/step - loss: 3.7702 - accuracy: 0.2183 - val_loss: 9.1294 - val_accuracy: 0.0575\n",
      "Epoch 26/50\n",
      "644/644 [==============================] - 15s 24ms/step - loss: 3.6973 - accuracy: 0.2292 - val_loss: 9.2630 - val_accuracy: 0.0575\n",
      "Epoch 27/50\n",
      "644/644 [==============================] - 16s 24ms/step - loss: 3.6242 - accuracy: 0.2423 - val_loss: 9.3682 - val_accuracy: 0.0550\n",
      "Epoch 28/50\n",
      "644/644 [==============================] - 16s 24ms/step - loss: 3.5556 - accuracy: 0.2533 - val_loss: 9.4746 - val_accuracy: 0.0585\n",
      "Epoch 29/50\n",
      "644/644 [==============================] - 15s 23ms/step - loss: 3.4883 - accuracy: 0.2646 - val_loss: 9.5970 - val_accuracy: 0.0560\n",
      "Epoch 30/50\n",
      "644/644 [==============================] - 15s 24ms/step - loss: 3.4275 - accuracy: 0.2759 - val_loss: 9.7025 - val_accuracy: 0.0554\n",
      "Epoch 31/50\n",
      "644/644 [==============================] - 15s 24ms/step - loss: 3.3657 - accuracy: 0.2857 - val_loss: 9.7796 - val_accuracy: 0.0550\n",
      "Epoch 32/50\n",
      "644/644 [==============================] - 16s 25ms/step - loss: 3.3111 - accuracy: 0.2962 - val_loss: 9.8991 - val_accuracy: 0.0532\n",
      "Epoch 33/50\n",
      "644/644 [==============================] - 15s 24ms/step - loss: 3.2550 - accuracy: 0.3060 - val_loss: 10.0015 - val_accuracy: 0.0552\n",
      "Epoch 34/50\n",
      "644/644 [==============================] - 16s 24ms/step - loss: 3.2058 - accuracy: 0.3144 - val_loss: 10.1150 - val_accuracy: 0.0558\n",
      "Epoch 35/50\n",
      "644/644 [==============================] - 15s 24ms/step - loss: 3.1521 - accuracy: 0.3216 - val_loss: 10.2186 - val_accuracy: 0.0558\n",
      "Epoch 36/50\n",
      "644/644 [==============================] - 15s 24ms/step - loss: 3.1061 - accuracy: 0.3312 - val_loss: 10.2836 - val_accuracy: 0.0542\n",
      "Epoch 37/50\n",
      "644/644 [==============================] - 15s 24ms/step - loss: 3.0576 - accuracy: 0.3374 - val_loss: 10.3593 - val_accuracy: 0.0532\n",
      "Epoch 38/50\n",
      "644/644 [==============================] - 16s 25ms/step - loss: 3.0115 - accuracy: 0.3475 - val_loss: 10.4480 - val_accuracy: 0.0540\n",
      "Epoch 39/50\n",
      "644/644 [==============================] - 16s 25ms/step - loss: 2.9652 - accuracy: 0.3555 - val_loss: 10.5404 - val_accuracy: 0.0560\n",
      "Epoch 40/50\n",
      "644/644 [==============================] - 16s 24ms/step - loss: 2.9239 - accuracy: 0.3659 - val_loss: 10.6028 - val_accuracy: 0.0550\n",
      "Epoch 41/50\n",
      "644/644 [==============================] - 16s 25ms/step - loss: 2.8814 - accuracy: 0.3734 - val_loss: 10.6869 - val_accuracy: 0.0558\n",
      "Epoch 42/50\n",
      "644/644 [==============================] - 16s 25ms/step - loss: 2.8377 - accuracy: 0.3827 - val_loss: 10.7661 - val_accuracy: 0.0544\n",
      "Epoch 43/50\n",
      "644/644 [==============================] - 16s 25ms/step - loss: 2.7966 - accuracy: 0.3900 - val_loss: 10.8494 - val_accuracy: 0.0534\n",
      "Epoch 44/50\n",
      "644/644 [==============================] - 15s 24ms/step - loss: 2.7611 - accuracy: 0.3985 - val_loss: 10.9268 - val_accuracy: 0.0528\n",
      "Epoch 45/50\n",
      "644/644 [==============================] - 15s 24ms/step - loss: 2.7282 - accuracy: 0.4021 - val_loss: 10.9895 - val_accuracy: 0.0495\n",
      "Epoch 46/50\n",
      "644/644 [==============================] - 15s 24ms/step - loss: 2.6897 - accuracy: 0.4092 - val_loss: 11.0877 - val_accuracy: 0.0499\n",
      "Epoch 47/50\n",
      "644/644 [==============================] - 15s 24ms/step - loss: 2.6491 - accuracy: 0.4170 - val_loss: 11.1315 - val_accuracy: 0.0517\n",
      "Epoch 48/50\n",
      "644/644 [==============================] - 16s 24ms/step - loss: 2.6171 - accuracy: 0.4243 - val_loss: 11.1947 - val_accuracy: 0.0544\n",
      "Epoch 49/50\n",
      "644/644 [==============================] - 16s 25ms/step - loss: 2.5838 - accuracy: 0.4262 - val_loss: 11.2949 - val_accuracy: 0.0515\n",
      "Epoch 50/50\n",
      "644/644 [==============================] - 16s 24ms/step - loss: 2.5481 - accuracy: 0.4387 - val_loss: 11.3340 - val_accuracy: 0.0534\n"
     ]
    }
   ],
   "source": [
    "##Train the model\n",
    "history=model.fit(X_train,y_train,epochs=50,validation_data=(X_test,y_test),verbose=1)\n"
   ]
  },
  {
   "cell_type": "code",
   "execution_count": 83,
   "metadata": {},
   "outputs": [],
   "source": [
    "## Function to predict next word\n",
    "def predict_next_word(model,tokenizer,text,max_sequence_len):\n",
    "    token_list=tokenizer.texts_to_sequences([text])[0]\n",
    "    if len(token_list)>=max_sequence_len:\n",
    "        token_list=token_list[-(max_sequence_len):]  # Ensure the sequence length matches max_sequence_len\n",
    "    token_list=pad_sequences([token_list], maxlen=max_sequence_len-1,padding='pre')\n",
    "    predicted=model.predict(token_list,verbose=0)\n",
    "    predicted_word_index=np.argmax(predicted,axis=1)\n",
    "    for word,index in tokenizer.word_index.items():\n",
    "        if index==predicted_word_index:\n",
    "            return word \n",
    "    return None"
   ]
  },
  {
   "cell_type": "code",
   "execution_count": 84,
   "metadata": {},
   "outputs": [
    {
     "name": "stdout",
     "output_type": "stream",
     "text": [
      "Input text is :To be or not to be\n",
      "Next word prediction : too\n"
     ]
    }
   ],
   "source": [
    "input_text=\"To be or not to be\"\n",
    "print(f\"Input text is :{input_text}\")\n",
    "max_sequence_len=model.input_shape[1]+1\n",
    "next_word=predict_next_word(model,tokenizer,input_text,max_sequence_len)\n",
    "print(f\"Next word prediction : {next_word}\")"
   ]
  },
  {
   "cell_type": "code",
   "execution_count": 86,
   "metadata": {},
   "outputs": [],
   "source": [
    "##save the model\n",
    "\n",
    "model.save(\"next_word_lstm.h5\")\n",
    "\n",
    "\n",
    "##save the tokenizer\n",
    "import pickle\n",
    "with open('tokenizer.pickle','wb') as handle:\n",
    "    pickle.dump(tokenizer,handle,protocol=pickle.HIGHEST_PROTOCOL)"
   ]
  },
  {
   "cell_type": "code",
   "execution_count": 87,
   "metadata": {},
   "outputs": [
    {
     "name": "stdout",
     "output_type": "stream",
     "text": [
      "Input text is :To be bad is better than\n",
      "Next word prediction : a\n"
     ]
    }
   ],
   "source": [
    "input_text=\"To be bad is better than\"\n",
    "print(f\"Input text is :{input_text}\")\n",
    "max_sequence_len=model.input_shape[1]+1\n",
    "next_word=predict_next_word(model,tokenizer,input_text,max_sequence_len)\n",
    "print(f\"Next word prediction : {next_word}\")"
   ]
  },
  {
   "cell_type": "code",
   "execution_count": null,
   "metadata": {},
   "outputs": [],
   "source": []
  },
  {
   "cell_type": "code",
   "execution_count": null,
   "metadata": {},
   "outputs": [],
   "source": []
  },
  {
   "cell_type": "code",
   "execution_count": null,
   "metadata": {},
   "outputs": [],
   "source": []
  },
  {
   "cell_type": "code",
   "execution_count": null,
   "metadata": {},
   "outputs": [],
   "source": []
  },
  {
   "cell_type": "code",
   "execution_count": null,
   "metadata": {},
   "outputs": [],
   "source": []
  },
  {
   "cell_type": "code",
   "execution_count": null,
   "metadata": {},
   "outputs": [],
   "source": []
  },
  {
   "cell_type": "code",
   "execution_count": null,
   "metadata": {},
   "outputs": [],
   "source": []
  },
  {
   "cell_type": "code",
   "execution_count": null,
   "metadata": {},
   "outputs": [],
   "source": []
  },
  {
   "cell_type": "code",
   "execution_count": null,
   "metadata": {},
   "outputs": [],
   "source": []
  },
  {
   "cell_type": "code",
   "execution_count": null,
   "metadata": {},
   "outputs": [],
   "source": []
  },
  {
   "cell_type": "code",
   "execution_count": null,
   "metadata": {},
   "outputs": [],
   "source": []
  },
  {
   "cell_type": "code",
   "execution_count": null,
   "metadata": {},
   "outputs": [],
   "source": []
  },
  {
   "cell_type": "code",
   "execution_count": null,
   "metadata": {},
   "outputs": [],
   "source": []
  },
  {
   "cell_type": "code",
   "execution_count": null,
   "metadata": {},
   "outputs": [],
   "source": []
  },
  {
   "cell_type": "code",
   "execution_count": null,
   "metadata": {},
   "outputs": [],
   "source": []
  },
  {
   "cell_type": "code",
   "execution_count": null,
   "metadata": {},
   "outputs": [],
   "source": []
  },
  {
   "cell_type": "code",
   "execution_count": null,
   "metadata": {},
   "outputs": [],
   "source": []
  },
  {
   "cell_type": "code",
   "execution_count": null,
   "metadata": {},
   "outputs": [],
   "source": []
  },
  {
   "cell_type": "code",
   "execution_count": null,
   "metadata": {},
   "outputs": [],
   "source": []
  },
  {
   "cell_type": "code",
   "execution_count": null,
   "metadata": {},
   "outputs": [],
   "source": []
  },
  {
   "cell_type": "code",
   "execution_count": null,
   "metadata": {},
   "outputs": [],
   "source": []
  },
  {
   "cell_type": "code",
   "execution_count": null,
   "metadata": {},
   "outputs": [],
   "source": []
  },
  {
   "cell_type": "code",
   "execution_count": null,
   "metadata": {},
   "outputs": [],
   "source": []
  },
  {
   "cell_type": "code",
   "execution_count": null,
   "metadata": {},
   "outputs": [],
   "source": []
  },
  {
   "cell_type": "code",
   "execution_count": null,
   "metadata": {},
   "outputs": [],
   "source": []
  },
  {
   "cell_type": "code",
   "execution_count": null,
   "metadata": {},
   "outputs": [],
   "source": []
  },
  {
   "cell_type": "code",
   "execution_count": null,
   "metadata": {},
   "outputs": [],
   "source": []
  },
  {
   "cell_type": "code",
   "execution_count": null,
   "metadata": {},
   "outputs": [],
   "source": []
  }
 ],
 "metadata": {
  "kernelspec": {
   "display_name": "mine",
   "language": "python",
   "name": "python3"
  },
  "language_info": {
   "codemirror_mode": {
    "name": "ipython",
    "version": 3
   },
   "file_extension": ".py",
   "mimetype": "text/x-python",
   "name": "python",
   "nbconvert_exporter": "python",
   "pygments_lexer": "ipython3",
   "version": "3.11.0"
  }
 },
 "nbformat": 4,
 "nbformat_minor": 2
}
